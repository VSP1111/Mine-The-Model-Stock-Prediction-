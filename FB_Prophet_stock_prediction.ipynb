{
  "metadata": {
    "kernelspec": {
      "language": "python",
      "display_name": "Python 3",
      "name": "python3"
    },
    "language_info": {
      "pygments_lexer": "ipython3",
      "nbconvert_exporter": "python",
      "version": "3.6.4",
      "file_extension": ".py",
      "codemirror_mode": {
        "name": "ipython",
        "version": 3
      },
      "name": "python",
      "mimetype": "text/x-python"
    },
    "colab": {
      "provenance": []
    }
  },
  "nbformat_minor": 0,
  "nbformat": 4,
  "cells": [
    {
      "source": [
        "\n",
        "import os\n",
        "import sys\n",
        "from tempfile import NamedTemporaryFile\n",
        "from urllib.request import urlopen\n",
        "from urllib.parse import unquote, urlparse\n",
        "from urllib.error import HTTPError\n",
        "from zipfile import ZipFile\n",
        "import tarfile\n",
        "import shutil\n",
        "\n",
        "CHUNK_SIZE = 40960\n",
        "DATA_SOURCE_MAPPING = 'mine-the-model-2023:https%3A%2F%2Fstorage.googleapis.com%2Fkaggle-competitions-data%2Fkaggle-v2%2F62583%2F6927485%2Fbundle%2Farchive.zip%3FX-Goog-Algorithm%3DGOOG4-RSA-SHA256%26X-Goog-Credential%3Dgcp-kaggle-com%2540kaggle-161607.iam.gserviceaccount.com%252F20240720%252Fauto%252Fstorage%252Fgoog4_request%26X-Goog-Date%3D20240720T091923Z%26X-Goog-Expires%3D259200%26X-Goog-SignedHeaders%3Dhost%26X-Goog-Signature%3D9ee95c48e5bf05f84698a4d2307ee7875348aec2e275e2f6ce5175afbb1a98f75c878365902a80e56817b98f689f59fda5f1d7e27bc109054a817ed9d446c1edfc038bdd54eed9c48459cb556a6c44fa10049558c4a5cf04dd97e0ac3aa4c0118317d2eef6054dc41c09e0e7fda6fdae872de31568b17e1c35812475556b819d76a5970f740e4a25bb9ab06630e03962a3e641a42cbf744e0a0c203eac706af080bc851cda63e6298f6d233f06e7aa5b8897f7e40fe4ae9e88f4ab92deab751672a7c2b1c90a2a282839ee34d7cf419fb6703ff03efeae81df524a30904249cc8b3f4e3c336b6fbb8006d167ba42fb1858432a7e6b0b2b4d301bbdca01020d8f'\n",
        "\n",
        "KAGGLE_INPUT_PATH='/kaggle/input'\n",
        "KAGGLE_WORKING_PATH='/kaggle/working'\n",
        "KAGGLE_SYMLINK='kaggle'\n",
        "\n",
        "!umount /kaggle/input/ 2> /dev/null\n",
        "shutil.rmtree('/kaggle/input', ignore_errors=True)\n",
        "os.makedirs(KAGGLE_INPUT_PATH, 0o777, exist_ok=True)\n",
        "os.makedirs(KAGGLE_WORKING_PATH, 0o777, exist_ok=True)\n",
        "\n",
        "try:\n",
        "  os.symlink(KAGGLE_INPUT_PATH, os.path.join(\"..\", 'input'), target_is_directory=True)\n",
        "except FileExistsError:\n",
        "  pass\n",
        "try:\n",
        "  os.symlink(KAGGLE_WORKING_PATH, os.path.join(\"..\", 'working'), target_is_directory=True)\n",
        "except FileExistsError:\n",
        "  pass\n",
        "\n",
        "for data_source_mapping in DATA_SOURCE_MAPPING.split(','):\n",
        "    directory, download_url_encoded = data_source_mapping.split(':')\n",
        "    download_url = unquote(download_url_encoded)\n",
        "    filename = urlparse(download_url).path\n",
        "    destination_path = os.path.join(KAGGLE_INPUT_PATH, directory)\n",
        "\n",
        "    with urlopen(download_url) as fileres, NamedTemporaryFile() as tfile:\n",
        "        total_length = fileres.headers['content-length']\n",
        "        dl = 0\n",
        "        data = fileres.read(CHUNK_SIZE)\n",
        "        while len(data) > 0:\n",
        "            dl += len(data)\n",
        "            tfile.write(data)\n",
        "            done = int(50 * dl / int(total_length))\n",
        "            sys.stdout.write(f\"\\r[{'=' * done}{' ' * (50-done)}] {dl} bytes downloaded\")\n",
        "            sys.stdout.flush()\n",
        "            data = fileres.read(CHUNK_SIZE)\n",
        "        if filename.endswith('.zip'):\n",
        "          with ZipFile(tfile) as zfile:\n",
        "            zfile.extractall(destination_path)\n",
        "        else:\n",
        "          with tarfile.open(tfile.name) as tarfile:\n",
        "            tarfile.extractall(destination_path)\n"
      ],
      "metadata": {
        "id": "YKcxrAYGcGns"
      },
      "cell_type": "code",
      "outputs": [],
      "execution_count": null
    },
    {
      "cell_type": "code",
      "source": [
        "import os\n",
        "import pandas as pd\n",
        "\n",
        "import matplotlib.pyplot as plt\n",
        "\n",
        "from prophet import Prophet"
      ],
      "metadata": {
        "id": "gh3aCLEdcGny"
      },
      "execution_count": null,
      "outputs": []
    },
    {
      "cell_type": "code",
      "source": [
        "def predictor(path):\n",
        "  df = pd.read_csv(path)\n",
        "  df = df[['Date','Close']]\n",
        "  df.columns = ['ds','y']\n",
        "  model = Prophet(daily_seasonality=True)\n",
        "  model.fit(df)\n",
        "  prediction_dates = model.make_future_dataframe(periods=100)\n",
        "  prediction_dates = prediction_dates.tail(100)\n",
        "  predictions = model.predict(prediction_dates)\n",
        "\n",
        "  pred_df = predictions[['ds','yhat']]\n",
        "  pred_df.columns = ['Date','Price']\n",
        "\n",
        "  ids=[]\n",
        "  for index, row in pred_df.iterrows():\n",
        "    ID = f\"{os.path.splitext(os.path.basename(path))[0]}_#{index+1}\"\n",
        "    ids.append(ID)\n",
        "\n",
        "  pred_df['Date'] = ids\n",
        "\n",
        "  return pred_df\n"
      ],
      "metadata": {
        "id": "47hupxHCcGnz"
      },
      "execution_count": null,
      "outputs": []
    },
    {
      "cell_type": "code",
      "source": [
        "folder_path = \"/kaggle/input/mine-the-model-2023/Upload-Dataset/TRAIN\"\n",
        "dfs=[]\n",
        "\n",
        "for filename in os.listdir(folder_path):\n",
        "  stock_df = os.path.join(folder_path,filename)\n",
        "  dfs.append(predictor(stock_df))"
      ],
      "metadata": {
        "id": "K21Ghp8vnCkO",
        "execution": {
          "iopub.status.busy": "2023-11-01T06:11:49.576127Z",
          "iopub.execute_input": "2023-11-01T06:11:49.576909Z",
          "iopub.status.idle": "2023-11-01T06:14:35.03048Z",
          "shell.execute_reply.started": "2023-11-01T06:11:49.576854Z",
          "shell.execute_reply": "2023-11-01T06:14:35.029226Z"
        },
        "trusted": true
      },
      "execution_count": null,
      "outputs": []
    },
    {
      "cell_type": "code",
      "source": [
        "dfsconcat = pd.concat(dfs)\n",
        "dfsconcat.columns = ['ID','Price']\n",
        "dfsconcat.to_csv('Submission_prophet.csv',index=False)"
      ],
      "metadata": {
        "id": "H6Ah7MO7-ZhH",
        "execution": {
          "iopub.status.busy": "2023-11-01T06:14:35.033141Z",
          "iopub.execute_input": "2023-11-01T06:14:35.033522Z",
          "iopub.status.idle": "2023-11-01T06:14:35.070341Z",
          "shell.execute_reply.started": "2023-11-01T06:14:35.033492Z",
          "shell.execute_reply": "2023-11-01T06:14:35.069012Z"
        },
        "trusted": true
      },
      "execution_count": null,
      "outputs": []
    },
    {
      "cell_type": "code",
      "source": [
        "plt.plot(dfsconcat['ID'][0:100],dfsconcat['Price'][0:100])\n",
        "plt.title('Closing Price v/s Time',size=20)\n",
        "plt.xticks(c='white')\n",
        "plt.xlabel('Date',size=15,)\n",
        "plt.ylabel('Closing Price',size=15)"
      ],
      "metadata": {
        "id": "Mo8zVrZ__Yli",
        "execution": {
          "iopub.status.busy": "2023-11-01T06:14:35.072366Z",
          "iopub.execute_input": "2023-11-01T06:14:35.072816Z",
          "iopub.status.idle": "2023-11-01T06:14:36.233147Z",
          "shell.execute_reply.started": "2023-11-01T06:14:35.072786Z",
          "shell.execute_reply": "2023-11-01T06:14:36.23165Z"
        },
        "trusted": true
      },
      "execution_count": null,
      "outputs": []
    },
    {
      "cell_type": "code",
      "source": [],
      "metadata": {
        "id": "kOF3WFyCEuQI"
      },
      "execution_count": null,
      "outputs": []
    }
  ]
}